{
 "cells": [
  {
   "cell_type": "code",
   "execution_count": 1,
   "id": "6c7b8333-f6b6-4016-92e4-d1c3f78a3712",
   "metadata": {},
   "outputs": [],
   "source": [
    "import numpy as np\n",
    "import matplotlib.pyplot as plt"
   ]
  },
  {
   "cell_type": "code",
   "execution_count": 2,
   "id": "17f1c33e-72d5-4244-927d-72ed6902826a",
   "metadata": {},
   "outputs": [],
   "source": [
    "a = [\n",
    "    [0, 0, 1, 1, 0, 0],\n",
    "    [0, 1, 0, 0, 1, 0],\n",
    "    [1, 1, 1, 1, 1, 1],\n",
    "    [1, 0, 0, 0, 0, 1],\n",
    "    [1, 0, 0, 0, 0, 1]\n",
    "]\n",
    "\n",
    "b = [\n",
    "    [0, 1, 1, 1, 1, 0],\n",
    "    [0, 1, 0, 0, 1, 0],\n",
    "    [0, 1, 1, 1, 1, 0],\n",
    "    [0, 1, 0, 0, 1, 0],\n",
    "    [0, 1, 1, 1, 1, 0]\n",
    "]\n",
    "\n",
    "c = [\n",
    "    [0, 1, 1, 1, 1, 0],\n",
    "    [0, 1, 0, 0, 0, 0],\n",
    "    [0, 1, 0, 0, 0, 0],\n",
    "    [0, 1, 0, 0, 0, 0],\n",
    "    [0, 1, 1, 1, 1, 0]\n",
    "]\n"
   ]
  },
  {
   "cell_type": "code",
   "execution_count": 3,
   "id": "768c5925-0886-425b-bebc-ad9339fc40dc",
   "metadata": {},
   "outputs": [],
   "source": [
    "Y = np.array([\n",
    "    [1, 0, 0],  # A\n",
    "    [0, 1, 0],  # B\n",
    "    [0, 0, 1]   # C\n",
    "])"
   ]
  },
  {
   "cell_type": "code",
   "execution_count": 4,
   "id": "104d9dee-3848-4d60-b192-1c1c2e4faa01",
   "metadata": {},
   "outputs": [],
   "source": [
    "X = np.array([\n",
    "    np.array(a).reshape(1, 30),\n",
    "    np.array(b).reshape(1, 30),\n",
    "    np.array(c).reshape(1, 30)\n",
    "]).reshape(3, 30)\n"
   ]
  },
  {
   "cell_type": "code",
   "execution_count": 5,
   "id": "044c3adf-eed3-4d8d-8b89-c16686fddddf",
   "metadata": {},
   "outputs": [],
   "source": [
    "def sigmoid(x):\n",
    "    return 1 / (1 + np.exp(-x))"
   ]
  },
  {
   "cell_type": "code",
   "execution_count": 6,
   "id": "945f1e48-7cef-405d-b1f3-c88b10a85d65",
   "metadata": {},
   "outputs": [],
   "source": [
    "def f_forward(x, w1, w2):\n",
    "    z1 = np.dot(x, w1)\n",
    "    a1 = sigmoid(z1)\n",
    "    z2 = np.dot(a1, w2)\n",
    "    a2 = sigmoid(z2)\n",
    "    return a1, a2"
   ]
  },
  {
   "cell_type": "code",
   "execution_count": 7,
   "id": "0efa3164-58d5-437a-899a-b94a91270203",
   "metadata": {},
   "outputs": [],
   "source": [
    "def generate_wt(x, y):\n",
    "    return np.random.randn(x, y)"
   ]
  },
  {
   "cell_type": "code",
   "execution_count": 8,
   "id": "3374b937-94ca-49b8-a37d-78d5bafd4d71",
   "metadata": {},
   "outputs": [],
   "source": [
    "def loss(pred, target):\n",
    "    return np.mean(np.square(pred - target))"
   ]
  },
  {
   "cell_type": "code",
   "execution_count": 9,
   "id": "1a24cd87-c433-4578-9945-e68a795925ff",
   "metadata": {},
   "outputs": [],
   "source": [
    "def back_prop(x, y, w1, w2, alpha):\n",
    "    a1, a2 = f_forward(x, w1, w2)\n",
    "\n",
    "    # Output layer error\n",
    "    d2 = a2 - y\n",
    "\n",
    "    # Hidden layer error\n",
    "    d1 = np.dot(d2, w2.T) * a1 * (1 - a1)\n",
    "\n",
    "    # Weight adjustments\n",
    "    w2_adj = np.dot(a1.T, d2)\n",
    "    w1_adj = np.dot(x.T, d1)\n",
    "\n",
    "    # Update weights\n",
    "    w1 -= alpha * w1_adj\n",
    "    w2 -= alpha * w2_adj\n",
    "\n",
    "    return w1, w2"
   ]
  },
  {
   "cell_type": "code",
   "execution_count": 10,
   "id": "77b0fb12-80ad-4917-a39b-da3dbad6622b",
   "metadata": {},
   "outputs": [],
   "source": [
    "def train(X, Y, w1, w2, alpha=0.1, epoch=100):\n",
    "    acc_list = []\n",
    "    loss_list = []\n",
    "    for j in range(epoch):\n",
    "        l = []\n",
    "        for i in range(len(X)):\n",
    "            _, out = f_forward(X[i].reshape(1, -1), w1, w2)\n",
    "            l.append(loss(out, Y[i].reshape(1, -1)))\n",
    "            w1, w2 = back_prop(X[i].reshape(1, -1), Y[i].reshape(1, -1), w1, w2, alpha)\n",
    "        avg_loss = sum(l) / len(X)\n",
    "        accuracy = (1 - avg_loss) * 100\n",
    "        print(f\"Epoch: {j+1} | Accuracy: {accuracy:.2f}% | Loss: {avg_loss:.4f}\")\n",
    "        acc_list.append(accuracy)\n",
    "        loss_list.append(avg_loss)\n",
    "    return acc_list, loss_list, w1, w2"
   ]
  },
  {
   "cell_type": "code",
   "execution_count": 20,
   "id": "9c95d1a6-1b85-476a-98ff-264568eebb85",
   "metadata": {},
   "outputs": [],
   "source": [
    "def predict(x, w1, w2):\n",
    "    _, out = f_forward(x.reshape(1, -1), w1, w2)\n",
    "    pred_class = np.argmax(out)\n",
    "    if pred_class == 0:\n",
    "        print(\"Image is of Letter A\")\n",
    "    elif pred_class == 1:\n",
    "        print(\"Image is of Letter B\")\n",
    "    else:\n",
    "        print(\"Image is of Letter C\")\n",
    "    plt.imshow(x.reshape(5, 6))\n",
    "    plt.show()"
   ]
  },
  {
   "cell_type": "code",
   "execution_count": 21,
   "id": "67e39791-750b-404b-8132-a752d4051a13",
   "metadata": {},
   "outputs": [],
   "source": [
    "w1 = generate_wt(30, 5)  # input -> hidden\n",
    "w2 = generate_wt(5, 3)   # hidden -> output"
   ]
  },
  {
   "cell_type": "code",
   "execution_count": 22,
   "id": "9e06293d-afaa-4d80-a8b3-e6a7d5c48c0c",
   "metadata": {},
   "outputs": [
    {
     "name": "stdout",
     "output_type": "stream",
     "text": [
      "Epoch: 1 | Accuracy: 76.61% | Loss: 0.2339\n",
      "Epoch: 2 | Accuracy: 77.42% | Loss: 0.2258\n",
      "Epoch: 3 | Accuracy: 78.11% | Loss: 0.2189\n",
      "Epoch: 4 | Accuracy: 78.71% | Loss: 0.2129\n",
      "Epoch: 5 | Accuracy: 79.24% | Loss: 0.2076\n",
      "Epoch: 6 | Accuracy: 79.72% | Loss: 0.2028\n",
      "Epoch: 7 | Accuracy: 80.16% | Loss: 0.1984\n",
      "Epoch: 8 | Accuracy: 80.55% | Loss: 0.1945\n",
      "Epoch: 9 | Accuracy: 80.91% | Loss: 0.1909\n",
      "Epoch: 10 | Accuracy: 81.24% | Loss: 0.1876\n",
      "Epoch: 11 | Accuracy: 81.54% | Loss: 0.1846\n",
      "Epoch: 12 | Accuracy: 81.81% | Loss: 0.1819\n",
      "Epoch: 13 | Accuracy: 82.07% | Loss: 0.1793\n",
      "Epoch: 14 | Accuracy: 82.31% | Loss: 0.1769\n",
      "Epoch: 15 | Accuracy: 82.53% | Loss: 0.1747\n",
      "Epoch: 16 | Accuracy: 82.74% | Loss: 0.1726\n",
      "Epoch: 17 | Accuracy: 82.94% | Loss: 0.1706\n",
      "Epoch: 18 | Accuracy: 83.13% | Loss: 0.1687\n",
      "Epoch: 19 | Accuracy: 83.31% | Loss: 0.1669\n",
      "Epoch: 20 | Accuracy: 83.49% | Loss: 0.1651\n",
      "Epoch: 21 | Accuracy: 83.66% | Loss: 0.1634\n",
      "Epoch: 22 | Accuracy: 83.82% | Loss: 0.1618\n",
      "Epoch: 23 | Accuracy: 83.98% | Loss: 0.1602\n",
      "Epoch: 24 | Accuracy: 84.14% | Loss: 0.1586\n",
      "Epoch: 25 | Accuracy: 84.29% | Loss: 0.1571\n",
      "Epoch: 26 | Accuracy: 84.43% | Loss: 0.1557\n",
      "Epoch: 27 | Accuracy: 84.57% | Loss: 0.1543\n",
      "Epoch: 28 | Accuracy: 84.71% | Loss: 0.1529\n",
      "Epoch: 29 | Accuracy: 84.84% | Loss: 0.1516\n",
      "Epoch: 30 | Accuracy: 84.97% | Loss: 0.1503\n",
      "Epoch: 31 | Accuracy: 85.09% | Loss: 0.1491\n",
      "Epoch: 32 | Accuracy: 85.21% | Loss: 0.1479\n",
      "Epoch: 33 | Accuracy: 85.33% | Loss: 0.1467\n",
      "Epoch: 34 | Accuracy: 85.44% | Loss: 0.1456\n",
      "Epoch: 35 | Accuracy: 85.55% | Loss: 0.1445\n",
      "Epoch: 36 | Accuracy: 85.66% | Loss: 0.1434\n",
      "Epoch: 37 | Accuracy: 85.76% | Loss: 0.1424\n",
      "Epoch: 38 | Accuracy: 85.86% | Loss: 0.1414\n",
      "Epoch: 39 | Accuracy: 85.96% | Loss: 0.1404\n",
      "Epoch: 40 | Accuracy: 86.05% | Loss: 0.1395\n",
      "Epoch: 41 | Accuracy: 86.14% | Loss: 0.1386\n",
      "Epoch: 42 | Accuracy: 86.23% | Loss: 0.1377\n",
      "Epoch: 43 | Accuracy: 86.31% | Loss: 0.1369\n",
      "Epoch: 44 | Accuracy: 86.40% | Loss: 0.1360\n",
      "Epoch: 45 | Accuracy: 86.48% | Loss: 0.1352\n",
      "Epoch: 46 | Accuracy: 86.56% | Loss: 0.1344\n",
      "Epoch: 47 | Accuracy: 86.64% | Loss: 0.1336\n",
      "Epoch: 48 | Accuracy: 86.71% | Loss: 0.1329\n",
      "Epoch: 49 | Accuracy: 86.78% | Loss: 0.1322\n",
      "Epoch: 50 | Accuracy: 86.86% | Loss: 0.1314\n",
      "Epoch: 51 | Accuracy: 86.93% | Loss: 0.1307\n",
      "Epoch: 52 | Accuracy: 87.00% | Loss: 0.1300\n",
      "Epoch: 53 | Accuracy: 87.07% | Loss: 0.1293\n",
      "Epoch: 54 | Accuracy: 87.13% | Loss: 0.1287\n",
      "Epoch: 55 | Accuracy: 87.20% | Loss: 0.1280\n",
      "Epoch: 56 | Accuracy: 87.27% | Loss: 0.1273\n",
      "Epoch: 57 | Accuracy: 87.33% | Loss: 0.1267\n",
      "Epoch: 58 | Accuracy: 87.39% | Loss: 0.1261\n",
      "Epoch: 59 | Accuracy: 87.46% | Loss: 0.1254\n",
      "Epoch: 60 | Accuracy: 87.52% | Loss: 0.1248\n",
      "Epoch: 61 | Accuracy: 87.58% | Loss: 0.1242\n",
      "Epoch: 62 | Accuracy: 87.65% | Loss: 0.1235\n",
      "Epoch: 63 | Accuracy: 87.71% | Loss: 0.1229\n",
      "Epoch: 64 | Accuracy: 87.77% | Loss: 0.1223\n",
      "Epoch: 65 | Accuracy: 87.84% | Loss: 0.1216\n",
      "Epoch: 66 | Accuracy: 87.90% | Loss: 0.1210\n",
      "Epoch: 67 | Accuracy: 87.96% | Loss: 0.1204\n",
      "Epoch: 68 | Accuracy: 88.03% | Loss: 0.1197\n",
      "Epoch: 69 | Accuracy: 88.09% | Loss: 0.1191\n",
      "Epoch: 70 | Accuracy: 88.16% | Loss: 0.1184\n",
      "Epoch: 71 | Accuracy: 88.22% | Loss: 0.1178\n",
      "Epoch: 72 | Accuracy: 88.29% | Loss: 0.1171\n",
      "Epoch: 73 | Accuracy: 88.36% | Loss: 0.1164\n",
      "Epoch: 74 | Accuracy: 88.42% | Loss: 0.1158\n",
      "Epoch: 75 | Accuracy: 88.49% | Loss: 0.1151\n",
      "Epoch: 76 | Accuracy: 88.56% | Loss: 0.1144\n",
      "Epoch: 77 | Accuracy: 88.63% | Loss: 0.1137\n",
      "Epoch: 78 | Accuracy: 88.71% | Loss: 0.1129\n",
      "Epoch: 79 | Accuracy: 88.78% | Loss: 0.1122\n",
      "Epoch: 80 | Accuracy: 88.85% | Loss: 0.1115\n",
      "Epoch: 81 | Accuracy: 88.93% | Loss: 0.1107\n",
      "Epoch: 82 | Accuracy: 89.00% | Loss: 0.1100\n",
      "Epoch: 83 | Accuracy: 89.08% | Loss: 0.1092\n",
      "Epoch: 84 | Accuracy: 89.16% | Loss: 0.1084\n",
      "Epoch: 85 | Accuracy: 89.24% | Loss: 0.1076\n",
      "Epoch: 86 | Accuracy: 89.32% | Loss: 0.1068\n",
      "Epoch: 87 | Accuracy: 89.40% | Loss: 0.1060\n",
      "Epoch: 88 | Accuracy: 89.48% | Loss: 0.1052\n",
      "Epoch: 89 | Accuracy: 89.57% | Loss: 0.1043\n",
      "Epoch: 90 | Accuracy: 89.65% | Loss: 0.1035\n",
      "Epoch: 91 | Accuracy: 89.74% | Loss: 0.1026\n",
      "Epoch: 92 | Accuracy: 89.83% | Loss: 0.1017\n",
      "Epoch: 93 | Accuracy: 89.92% | Loss: 0.1008\n",
      "Epoch: 94 | Accuracy: 90.01% | Loss: 0.0999\n",
      "Epoch: 95 | Accuracy: 90.10% | Loss: 0.0990\n",
      "Epoch: 96 | Accuracy: 90.19% | Loss: 0.0981\n",
      "Epoch: 97 | Accuracy: 90.28% | Loss: 0.0972\n",
      "Epoch: 98 | Accuracy: 90.37% | Loss: 0.0963\n",
      "Epoch: 99 | Accuracy: 90.47% | Loss: 0.0953\n",
      "Epoch: 100 | Accuracy: 90.56% | Loss: 0.0944\n",
      "Epoch: 101 | Accuracy: 90.66% | Loss: 0.0934\n",
      "Epoch: 102 | Accuracy: 90.76% | Loss: 0.0924\n",
      "Epoch: 103 | Accuracy: 90.86% | Loss: 0.0914\n",
      "Epoch: 104 | Accuracy: 90.95% | Loss: 0.0905\n",
      "Epoch: 105 | Accuracy: 91.05% | Loss: 0.0895\n",
      "Epoch: 106 | Accuracy: 91.15% | Loss: 0.0885\n",
      "Epoch: 107 | Accuracy: 91.25% | Loss: 0.0875\n",
      "Epoch: 108 | Accuracy: 91.35% | Loss: 0.0865\n",
      "Epoch: 109 | Accuracy: 91.45% | Loss: 0.0855\n",
      "Epoch: 110 | Accuracy: 91.55% | Loss: 0.0845\n",
      "Epoch: 111 | Accuracy: 91.65% | Loss: 0.0835\n",
      "Epoch: 112 | Accuracy: 91.74% | Loss: 0.0826\n",
      "Epoch: 113 | Accuracy: 91.84% | Loss: 0.0816\n",
      "Epoch: 114 | Accuracy: 91.94% | Loss: 0.0806\n",
      "Epoch: 115 | Accuracy: 92.04% | Loss: 0.0796\n",
      "Epoch: 116 | Accuracy: 92.14% | Loss: 0.0786\n",
      "Epoch: 117 | Accuracy: 92.23% | Loss: 0.0777\n",
      "Epoch: 118 | Accuracy: 92.33% | Loss: 0.0767\n",
      "Epoch: 119 | Accuracy: 92.42% | Loss: 0.0758\n",
      "Epoch: 120 | Accuracy: 92.52% | Loss: 0.0748\n",
      "Epoch: 121 | Accuracy: 92.61% | Loss: 0.0739\n",
      "Epoch: 122 | Accuracy: 92.70% | Loss: 0.0730\n",
      "Epoch: 123 | Accuracy: 92.79% | Loss: 0.0721\n",
      "Epoch: 124 | Accuracy: 92.88% | Loss: 0.0712\n",
      "Epoch: 125 | Accuracy: 92.97% | Loss: 0.0703\n",
      "Epoch: 126 | Accuracy: 93.06% | Loss: 0.0694\n",
      "Epoch: 127 | Accuracy: 93.15% | Loss: 0.0685\n",
      "Epoch: 128 | Accuracy: 93.24% | Loss: 0.0676\n",
      "Epoch: 129 | Accuracy: 93.32% | Loss: 0.0668\n",
      "Epoch: 130 | Accuracy: 93.41% | Loss: 0.0659\n",
      "Epoch: 131 | Accuracy: 93.49% | Loss: 0.0651\n",
      "Epoch: 132 | Accuracy: 93.57% | Loss: 0.0643\n",
      "Epoch: 133 | Accuracy: 93.66% | Loss: 0.0634\n",
      "Epoch: 134 | Accuracy: 93.74% | Loss: 0.0626\n",
      "Epoch: 135 | Accuracy: 93.82% | Loss: 0.0618\n",
      "Epoch: 136 | Accuracy: 93.90% | Loss: 0.0610\n",
      "Epoch: 137 | Accuracy: 93.97% | Loss: 0.0603\n",
      "Epoch: 138 | Accuracy: 94.05% | Loss: 0.0595\n",
      "Epoch: 139 | Accuracy: 94.13% | Loss: 0.0587\n",
      "Epoch: 140 | Accuracy: 94.20% | Loss: 0.0580\n",
      "Epoch: 141 | Accuracy: 94.28% | Loss: 0.0572\n",
      "Epoch: 142 | Accuracy: 94.35% | Loss: 0.0565\n",
      "Epoch: 143 | Accuracy: 94.42% | Loss: 0.0558\n",
      "Epoch: 144 | Accuracy: 94.49% | Loss: 0.0551\n",
      "Epoch: 145 | Accuracy: 94.57% | Loss: 0.0543\n",
      "Epoch: 146 | Accuracy: 94.64% | Loss: 0.0536\n",
      "Epoch: 147 | Accuracy: 94.71% | Loss: 0.0529\n",
      "Epoch: 148 | Accuracy: 94.78% | Loss: 0.0522\n",
      "Epoch: 149 | Accuracy: 94.84% | Loss: 0.0516\n",
      "Epoch: 150 | Accuracy: 94.91% | Loss: 0.0509\n",
      "Epoch: 151 | Accuracy: 94.98% | Loss: 0.0502\n",
      "Epoch: 152 | Accuracy: 95.04% | Loss: 0.0496\n",
      "Epoch: 153 | Accuracy: 95.11% | Loss: 0.0489\n",
      "Epoch: 154 | Accuracy: 95.18% | Loss: 0.0482\n",
      "Epoch: 155 | Accuracy: 95.24% | Loss: 0.0476\n",
      "Epoch: 156 | Accuracy: 95.30% | Loss: 0.0470\n",
      "Epoch: 157 | Accuracy: 95.37% | Loss: 0.0463\n",
      "Epoch: 158 | Accuracy: 95.43% | Loss: 0.0457\n",
      "Epoch: 159 | Accuracy: 95.49% | Loss: 0.0451\n",
      "Epoch: 160 | Accuracy: 95.56% | Loss: 0.0444\n",
      "Epoch: 161 | Accuracy: 95.62% | Loss: 0.0438\n",
      "Epoch: 162 | Accuracy: 95.68% | Loss: 0.0432\n",
      "Epoch: 163 | Accuracy: 95.74% | Loss: 0.0426\n",
      "Epoch: 164 | Accuracy: 95.80% | Loss: 0.0420\n",
      "Epoch: 165 | Accuracy: 95.86% | Loss: 0.0414\n",
      "Epoch: 166 | Accuracy: 95.92% | Loss: 0.0408\n",
      "Epoch: 167 | Accuracy: 95.98% | Loss: 0.0402\n",
      "Epoch: 168 | Accuracy: 96.03% | Loss: 0.0397\n",
      "Epoch: 169 | Accuracy: 96.09% | Loss: 0.0391\n",
      "Epoch: 170 | Accuracy: 96.15% | Loss: 0.0385\n",
      "Epoch: 171 | Accuracy: 96.20% | Loss: 0.0380\n",
      "Epoch: 172 | Accuracy: 96.26% | Loss: 0.0374\n",
      "Epoch: 173 | Accuracy: 96.31% | Loss: 0.0369\n",
      "Epoch: 174 | Accuracy: 96.37% | Loss: 0.0363\n",
      "Epoch: 175 | Accuracy: 96.42% | Loss: 0.0358\n",
      "Epoch: 176 | Accuracy: 96.47% | Loss: 0.0353\n",
      "Epoch: 177 | Accuracy: 96.52% | Loss: 0.0348\n",
      "Epoch: 178 | Accuracy: 96.57% | Loss: 0.0343\n",
      "Epoch: 179 | Accuracy: 96.62% | Loss: 0.0338\n",
      "Epoch: 180 | Accuracy: 96.67% | Loss: 0.0333\n",
      "Epoch: 181 | Accuracy: 96.72% | Loss: 0.0328\n",
      "Epoch: 182 | Accuracy: 96.77% | Loss: 0.0323\n",
      "Epoch: 183 | Accuracy: 96.81% | Loss: 0.0319\n",
      "Epoch: 184 | Accuracy: 96.86% | Loss: 0.0314\n",
      "Epoch: 185 | Accuracy: 96.90% | Loss: 0.0310\n",
      "Epoch: 186 | Accuracy: 96.95% | Loss: 0.0305\n",
      "Epoch: 187 | Accuracy: 96.99% | Loss: 0.0301\n",
      "Epoch: 188 | Accuracy: 97.03% | Loss: 0.0297\n",
      "Epoch: 189 | Accuracy: 97.07% | Loss: 0.0293\n",
      "Epoch: 190 | Accuracy: 97.11% | Loss: 0.0289\n",
      "Epoch: 191 | Accuracy: 97.16% | Loss: 0.0284\n",
      "Epoch: 192 | Accuracy: 97.20% | Loss: 0.0280\n",
      "Epoch: 193 | Accuracy: 97.23% | Loss: 0.0277\n",
      "Epoch: 194 | Accuracy: 97.27% | Loss: 0.0273\n",
      "Epoch: 195 | Accuracy: 97.31% | Loss: 0.0269\n",
      "Epoch: 196 | Accuracy: 97.35% | Loss: 0.0265\n",
      "Epoch: 197 | Accuracy: 97.39% | Loss: 0.0261\n",
      "Epoch: 198 | Accuracy: 97.42% | Loss: 0.0258\n",
      "Epoch: 199 | Accuracy: 97.46% | Loss: 0.0254\n",
      "Epoch: 200 | Accuracy: 97.49% | Loss: 0.0251\n"
     ]
    }
   ],
   "source": [
    "# Train model\n",
    "acc, loss_vals, w1, w2 = train(X, Y, w1, w2, alpha=0.1, epoch=200)"
   ]
  },
  {
   "cell_type": "code",
   "execution_count": 23,
   "id": "e18df7bf-fe82-4a5f-9604-6bd016e71908",
   "metadata": {},
   "outputs": [
    {
     "name": "stdout",
     "output_type": "stream",
     "text": [
      "\n",
      "Testing predictions:\n",
      "Image is of Letter A\n"
     ]
    },
    {
     "data": {
      "image/png": "[encoded data removed]",
      "text/plain": [
       "<Figure size 640x480 with 1 Axes>"
      ]
     },
     "metadata": {},
     "output_type": "display_data"
    },
    {
     "name": "stdout",
     "output_type": "stream",
     "text": [
      "Image is of Letter B\n"
     ]
    },
    {
     "data": {
      "image/png": "[encoded data removed]",
      "text/plain": [
       "<Figure size 640x480 with 1 Axes>"
      ]
     },
     "metadata": {},
     "output_type": "display_data"
    },
    {
     "name": "stdout",
     "output_type": "stream",
     "text": [
      "Image is of Letter C\n"
     ]
    },
    {
     "data": {
      "image/png": "[encoded data removed]",
      "text/plain": [
       "<Figure size 640x480 with 1 Axes>"
      ]
     },
     "metadata": {},
     "output_type": "display_data"
    }
   ],
   "source": [
    "print(\"\\nTesting predictions:\")\n",
    "predict(X[0], w1, w2)\n",
    "predict(X[1], w1, w2)\n",
    "predict(X[2], w1, w2)"
   ]
  },
  {
   "cell_type": "code",
   "execution_count": null,
   "id": "0b38e367-cc31-4f77-aeb3-fb72298d16a2",
   "metadata": {},
   "outputs": [],
   "source": []
  },
  {
   "cell_type": "code",
   "execution_count": null,
   "id": "91b25ddf-6e83-41cb-8362-5b54313c164e",
   "metadata": {},
   "outputs": [],
   "source": []
  }
 ],
 "metadata": {
  "kernelspec": {
   "display_name": "Python 3 (ipykernel)",
   "language": "python",
   "name": "python3"
  },
  "language_info": {
   "codemirror_mode": {
    "name": "ipython",
    "version": 3
   },
   "file_extension": ".py",
   "mimetype": "text/x-python",
   "name": "python",
   "nbconvert_exporter": "python",
   "pygments_lexer": "ipython3",
   "version": "3.12.10"
  }
 },
 "nbformat": 4,
 "nbformat_minor": 5
}
